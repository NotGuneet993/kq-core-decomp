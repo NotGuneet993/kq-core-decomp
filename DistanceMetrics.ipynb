{
 "cells": [
  {
   "cell_type": "code",
   "execution_count": 1,
   "id": "c0f9cd9a-49fd-45ea-bbaf-d0249a3c5125",
   "metadata": {},
   "outputs": [],
   "source": [
    "import numpy as np \n",
    "import pandas as pd\n",
    "import networkx as nx\n",
    "import hypernetx as hnx\n",
    "import matplotlib.pyplot as plt"
   ]
  },
  {
   "cell_type": "markdown",
   "id": "f66f840e-8901-4068-a962-e8330567b49b",
   "metadata": {},
   "source": [
    "<h5>Constructing the hypergraph of core nodes from the Enron email dataset. This code is taken from the other notebook.</h5>"
   ]
  },
  {
   "cell_type": "code",
   "execution_count": 2,
   "id": "fdc25b90-988c-4a52-87ac-3c7a5e28ad32",
   "metadata": {},
   "outputs": [
    {
     "name": "stdout",
     "output_type": "stream",
     "text": [
      "There are 148 core nodes\n",
      "There are 4058 hyperedges of only core nodes\n"
     ]
    }
   ],
   "source": [
    "file = open('data/addresses-email-Enron.txt')\n",
    "map = {}\n",
    "\n",
    "for pair in file:\n",
    "    (k,v) = pair.split(\" \")\n",
    "    map[k] = v[:-1]    # [:-1] removes the '\\n'\n",
    "file.close()\n",
    "print(f\"There are {len(map)} core nodes\")\n",
    "\n",
    "file = open('data/email-Enron.txt')\n",
    "set_list = []\n",
    "\n",
    "for line in file:\n",
    "    s = set() \n",
    "    for number in line[:-1].split(\" \"):\n",
    "        if number in map:\n",
    "            s.add(map[number])        \n",
    "    if len(s) > 1: set_list.append(s)\n",
    "file.close()\n",
    "\n",
    "print(f\"There are {len(set_list)} hyperedges of only core nodes\")"
   ]
  },
  {
   "cell_type": "markdown",
   "id": "d5228a5b-1558-424a-8e15-72b611b06041",
   "metadata": {},
   "source": [
    "<H2>Vertex based distance metrics</H2>"
   ]
  },
  {
   "cell_type": "markdown",
   "id": "06bf4dac-5bd3-4b07-8363-ee93a83b57d0",
   "metadata": {},
   "source": [
    "<h4>Hamming distance</h4>"
   ]
  },
  {
   "cell_type": "markdown",
   "id": "b0eba2c0-d60e-4930-b491-38b030748a90",
   "metadata": {},
   "source": [
    "This measures the difference between two hypergraphs by comparing the presence or absence of edges (hyperedges) between the same sets of vertices. It's akin to the traditional Hamming distance used for simple graphs but extended to hyperedges.\n",
    "\n",
    "Simple terms: it is (AUB)' where A&B are hyperghraphs"
   ]
  },
  {
   "cell_type": "code",
   "execution_count": 3,
   "id": "66fc526b-e2c0-4dde-99ea-81fd35453770",
   "metadata": {},
   "outputs": [
    {
     "name": "stdout",
     "output_type": "stream",
     "text": [
      "The hamming distance is 693\n"
     ]
    }
   ],
   "source": [
    "# to demonstrate on the Enron hypergraph, I am going to break the hypergraph into to 2 hypergraphs. Each HG has 2029.\n",
    "hg1 = set_list[:len(set_list)]\n",
    "hg2 = set_list[len(set_list):]\n",
    "\n",
    "hg_set1 = set(frozenset(s) for s in hg1)\n",
    "hg_set2 = set(frozenset(s) for s in hg2)\n",
    "\n",
    "print(f\"The hamming distance is {len(hg_set1^hg_set2)}\")"
   ]
  },
  {
   "cell_type": "markdown",
   "id": "31138b74-695b-4531-8f95-cce396f9b458",
   "metadata": {},
   "source": [
    "<H2>Hyperedge based distance metrics</H2>"
   ]
  },
  {
   "cell_type": "markdown",
   "id": "26560255-e9a6-4df0-a85f-7184ea1ba577",
   "metadata": {},
   "source": [
    "<h4>Jaccard Distance</h4> "
   ]
  },
  {
   "cell_type": "markdown",
   "id": "338ddd01-9d46-4c3f-aaa5-2ad5c263e8d2",
   "metadata": {},
   "source": [
    "This measures the dissimilarity between two hypergraphs based on their hyperedge sets. It is defined as 1−(∣E1∩E2∣)/(∣E1∪E2∣), where 𝐸1 and 𝐸2 are the sets of hyperedges in the two hypergraphs. The distance is 0 if the hypergraphs are identical and 1 if they share no common hyperedges.\n",
    "\n",
    "Simple terms: it is the % of difference between hypergraphs' edges"
   ]
  },
  {
   "cell_type": "code",
   "execution_count": 4,
   "id": "99de0f92-116d-4769-9f10-e79a9d92a304",
   "metadata": {},
   "outputs": [
    {
     "name": "stdout",
     "output_type": "stream",
     "text": [
      "The jaccard distance is 1.0\n"
     ]
    }
   ],
   "source": [
    "hg1 = set_list[:len(set_list)]\n",
    "hg2 = set_list[len(set_list):]\n",
    "\n",
    "hg_set1 = set(frozenset(s) for s in hg1)\n",
    "hg_set2 = set(frozenset(s) for s in hg2)\n",
    "\n",
    "jd = 1 - (len(hg_set1 & hg_set2)/len(hg_set1 | hg_set2))\n",
    "\n",
    "print(f\"The jaccard distance is {jd}\")"
   ]
  },
  {
   "cell_type": "code",
   "execution_count": 5,
   "id": "d4b7db0d-5a93-4cbb-b995-d00b12592d28",
   "metadata": {},
   "outputs": [
    {
     "name": "stdout",
     "output_type": "stream",
     "text": [
      "The jaccard distance is 0.8\n"
     ]
    }
   ],
   "source": [
    "'''\n",
    "a better example \n",
    "'''\n",
    "\n",
    "hg1 = [{1, 2, 3}, {3, 4}, {5}]\n",
    "hg2 = [{1, 2, 3}, {3, 5}, {5, 6}]\n",
    "\n",
    "hg_set1 = set(frozenset(s) for s in hg1)\n",
    "hg_set2 = set(frozenset(s) for s in hg2)\n",
    "\n",
    "jd = 1 - (len(hg_set1 & hg_set2)/len(hg_set1 | hg_set2))  # 1- (AUB)/(A∩B)\n",
    "\n",
    "print(f\"The jaccard distance is {jd}\")\n"
   ]
  },
  {
   "cell_type": "markdown",
   "id": "6c63432a-597e-4166-bc58-fd2530c42d97",
   "metadata": {},
   "source": [
    "<H2>Topological based distance metrics</H2>"
   ]
  },
  {
   "cell_type": "markdown",
   "id": "9aafc4c5-56bc-438c-96a0-7dfefc52b404",
   "metadata": {},
   "source": [
    "This metric leverages the betweenness centrality of vertices within the hypergraphs. It measures how changes in vertex betweenness centrality affect the overall structure, providing a distance based on topological changes."
   ]
  },
  {
   "cell_type": "code",
   "execution_count": 6,
   "id": "ce732a8b-331b-45fa-9274-23c44ff8e0e5",
   "metadata": {},
   "outputs": [
    {
     "name": "stdout",
     "output_type": "stream",
     "text": [
      "{3, 116}\n"
     ]
    }
   ],
   "source": [
    "'''\n",
    "The hypergraph needs to be reconstructed with ints\n",
    "'''\n",
    "\n",
    "file = open('data/addresses-email-Enron.txt')\n",
    "map = {}\n",
    "\n",
    "for pair in file:\n",
    "    (k,v) = pair.split(\" \")\n",
    "    map[k] = v[:-1]    # [:-1] removes the '\\n'\n",
    "file.close()\n",
    "\n",
    "file = open('data/email-Enron.txt')\n",
    "set_list = []\n",
    "\n",
    "for line in file:\n",
    "    s = set() \n",
    "    for number in line[:-1].split(\" \"):\n",
    "        if number in map:\n",
    "            s.add(int(number))        \n",
    "    if len(s) > 1: set_list.append(s)\n",
    "file.close()\n",
    "\n",
    "print(set_list[0])"
   ]
  },
  {
   "cell_type": "code",
   "execution_count": 7,
   "id": "ef48ebac-76ec-4853-a5fc-0cea762e53db",
   "metadata": {},
   "outputs": [
    {
     "name": "stdout",
     "output_type": "stream",
     "text": [
      "The topological distance is 0\n"
     ]
    }
   ],
   "source": [
    "hg1 = set_list[:len(set_list)]\n",
    "hg2 = set_list[len(set_list):]\n",
    "\n",
    "G1 = nx.DiGraph()\n",
    "G2 = nx.DiGraph()\n",
    "\n",
    "for hyperedge in hg1:\n",
    "    G1.add_nodes_from(hyperedge)\n",
    "    for u in hyperedge:\n",
    "        for v in hyperedge:\n",
    "            if u != v:\n",
    "                G1.add_edge(u, v)\n",
    "\n",
    "for hyperedge in hg2:\n",
    "    G2.add_nodes_from(hyperedge)\n",
    "    for u in hyperedge:\n",
    "        for v in hyperedge:\n",
    "            if u != v:\n",
    "                G2.add_edge(u, v)\n",
    "\n",
    "centrality1 = nx.betweenness_centrality(G1)\n",
    "centrality2 = nx.betweenness_centrality(G2)\n",
    "\n",
    "diff = sum(abs(centrality1[node] - centrality2[node]) for node in G1.nodes & G2.nodes) # Limitation? It can only compute on the union\n",
    "\n",
    "print(f\"The topological distance is {diff}\")"
   ]
  },
  {
   "cell_type": "code",
   "execution_count": 8,
   "id": "5028f484-5c9d-4123-b04c-3360eeee8146",
   "metadata": {},
   "outputs": [
    {
     "name": "stdout",
     "output_type": "stream",
     "text": [
      "The topological distance is 0.83\n"
     ]
    }
   ],
   "source": [
    "hg1 = [{1, 2, 3}, {3, 4}, {5}]\n",
    "hg2 = [{1, 2, 3}, {3, 5}, {5, 6}]\n",
    "\n",
    "G1 = nx.DiGraph()\n",
    "G2 = nx.DiGraph()\n",
    "\n",
    "for hyperedge in hg1:\n",
    "    G1.add_nodes_from(hyperedge)\n",
    "    for u in hyperedge:\n",
    "        for v in hyperedge:\n",
    "            if u != v:\n",
    "                G1.add_edge(u, v)\n",
    "\n",
    "for hyperedge in hg2:\n",
    "    G2.add_nodes_from(hyperedge)\n",
    "    for u in hyperedge:\n",
    "        for v in hyperedge:\n",
    "            if u != v:\n",
    "                G2.add_edge(u, v)\n",
    "\n",
    "centrality1 = nx.betweenness_centrality(G1)\n",
    "centrality2 = nx.betweenness_centrality(G2)\n",
    "\n",
    "diff = sum(abs(centrality1[node] - centrality2[node]) for node in G1.nodes & G2.nodes)\n",
    "\n",
    "print(f\"The topological distance is {diff:.2f}\")"
   ]
  }
 ],
 "metadata": {
  "kernelspec": {
   "display_name": "Python 3 (ipykernel)",
   "language": "python",
   "name": "python3"
  },
  "language_info": {
   "codemirror_mode": {
    "name": "ipython",
    "version": 3
   },
   "file_extension": ".py",
   "mimetype": "text/x-python",
   "name": "python",
   "nbconvert_exporter": "python",
   "pygments_lexer": "ipython3",
   "version": "3.11.7"
  }
 },
 "nbformat": 4,
 "nbformat_minor": 5
}
